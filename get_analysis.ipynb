{
 "cells": [
  {
   "cell_type": "code",
   "execution_count": 44,
   "id": "50c0c5da",
   "metadata": {},
   "outputs": [],
   "source": [
    "import sys\n",
    "import csv\n",
    "from selenium import webdriver\n",
    "from selenium.webdriver.common.keys import Keys\n",
    "from selenium.webdriver.common.by import By\n",
    "from selenium.webdriver.remote.webelement import WebElement\n",
    "import time\n",
    "import re\n",
    "import pandas as pd\n",
    "import random\n",
    "\n",
    "from tripadvisor_reviews_scraper import get_reviews_from_url"
   ]
  },
  {
   "cell_type": "code",
   "execution_count": 41,
   "id": "9e070efa",
   "metadata": {},
   "outputs": [
    {
     "name": "stdout",
     "output_type": "stream",
     "text": [
      "Collecting textblob\n",
      "  Downloading textblob-0.17.1-py2.py3-none-any.whl (636 kB)\n",
      "Requirement already satisfied: nltk>=3.1 in c:\\users\\marin\\anaconda3\\lib\\site-packages (from textblob) (3.6.5)\n",
      "Requirement already satisfied: click in c:\\users\\marin\\anaconda3\\lib\\site-packages (from nltk>=3.1->textblob) (8.0.3)\n",
      "Requirement already satisfied: joblib in c:\\users\\marin\\anaconda3\\lib\\site-packages (from nltk>=3.1->textblob) (1.1.0)\n",
      "Requirement already satisfied: regex>=2021.8.3 in c:\\users\\marin\\anaconda3\\lib\\site-packages (from nltk>=3.1->textblob) (2021.8.3)\n",
      "Requirement already satisfied: tqdm in c:\\users\\marin\\anaconda3\\lib\\site-packages (from nltk>=3.1->textblob) (4.62.3)\n",
      "Requirement already satisfied: colorama in c:\\users\\marin\\anaconda3\\lib\\site-packages (from click->nltk>=3.1->textblob) (0.4.4)\n",
      "Installing collected packages: textblob\n",
      "Successfully installed textblob-0.17.1\n",
      "Note: you may need to restart the kernel to use updated packages.\n"
     ]
    }
   ],
   "source": [
    "# pip install -U textblob"
   ]
  },
  {
   "cell_type": "code",
   "execution_count": 52,
   "id": "08eaa708",
   "metadata": {
    "scrolled": true
   },
   "outputs": [
    {
     "name": "stderr",
     "output_type": "stream",
     "text": [
      "[nltk_data] Downloading package stopwords to\n",
      "[nltk_data]     C:\\Users\\marin\\AppData\\Roaming\\nltk_data...\n",
      "[nltk_data]   Package stopwords is already up-to-date!\n",
      "[nltk_data] Downloading package omw-1.4 to\n",
      "[nltk_data]     C:\\Users\\marin\\AppData\\Roaming\\nltk_data...\n",
      "[nltk_data]   Package omw-1.4 is already up-to-date!\n",
      "[nltk_data] Downloading package wordnet to\n",
      "[nltk_data]     C:\\Users\\marin\\AppData\\Roaming\\nltk_data...\n"
     ]
    }
   ],
   "source": [
    "import string\n",
    "import nltk\n",
    "nltk.download('stopwords')\n",
    "from nltk.corpus import stopwords\n",
    "stopwords = set(stopwords.words('english'))\n",
    "\n",
    "from gensim.parsing.preprocessing import strip_punctuation, strip_numeric,\\\n",
    "                    strip_non_alphanum, strip_multiple_whitespaces, strip_short\n",
    "\n",
    "nltk.download('omw-1.4')\n",
    "nltk.download('wordnet')\n",
    "\n",
    "from nltk.stem import WordNetLemmatizer\n",
    "wordnet_lemmatizer = WordNetLemmatizer()\n",
    "from googletrans import Translator\n",
    "from textblob import TextBlob"
   ]
  },
  {
   "cell_type": "code",
   "execution_count": null,
   "id": "3461bafa",
   "metadata": {},
   "outputs": [],
   "source": [
    "# if not installed yet, execute\n",
    "# pip install googletrans==3.1.0a0 \n",
    "# pip install gensim"
   ]
  },
  {
   "cell_type": "code",
   "execution_count": 7,
   "id": "997c0910",
   "metadata": {},
   "outputs": [],
   "source": [
    "# for now we do the cleanings with the data coming from twitter\n",
    "\n",
    "# url = \"https://www.tripadvisor.com/Restaurant_Review-g60763-d12425739-Reviews-Piccola_Cucina_Estiatorio-New_York_City_New_York.html\"\n",
    "# df = get_reviews_from_url(url)"
   ]
  },
  {
   "cell_type": "code",
   "execution_count": 93,
   "id": "43b52514",
   "metadata": {},
   "outputs": [],
   "source": [
    "df = pd.read_csv(\"kw=Piccola Cucina Estiatorio-230120-132053.csv\")"
   ]
  },
  {
   "cell_type": "code",
   "execution_count": 94,
   "id": "824188f6",
   "metadata": {},
   "outputs": [],
   "source": [
    "df = df[['Content','Restaurant']]"
   ]
  },
  {
   "cell_type": "code",
   "execution_count": 95,
   "id": "559671c9",
   "metadata": {},
   "outputs": [
    {
     "data": {
      "text/html": [
       "<div>\n",
       "<style scoped>\n",
       "    .dataframe tbody tr th:only-of-type {\n",
       "        vertical-align: middle;\n",
       "    }\n",
       "\n",
       "    .dataframe tbody tr th {\n",
       "        vertical-align: top;\n",
       "    }\n",
       "\n",
       "    .dataframe thead th {\n",
       "        text-align: right;\n",
       "    }\n",
       "</style>\n",
       "<table border=\"1\" class=\"dataframe\">\n",
       "  <thead>\n",
       "    <tr style=\"text-align: right;\">\n",
       "      <th></th>\n",
       "      <th>Content</th>\n",
       "      <th>Restaurant</th>\n",
       "    </tr>\n",
       "  </thead>\n",
       "  <tbody>\n",
       "    <tr>\n",
       "      <th>0</th>\n",
       "      <td>Just posted a photo @ Piccola Cucina Estiatorio</td>\n",
       "      <td>Piccola Cucina Estiatorio</td>\n",
       "    </tr>\n",
       "    <tr>\n",
       "      <th>1</th>\n",
       "      <td>미국 뉴욕 Piccola Cucina Estiatorio여긴 그닥.. 저 초록색은 ...</td>\n",
       "      <td>Piccola Cucina Estiatorio</td>\n",
       "    </tr>\n",
       "    <tr>\n",
       "      <th>2</th>\n",
       "      <td>Piccola Cucina Estiatorio | New York USA | Ma2...</td>\n",
       "      <td>Piccola Cucina Estiatorio</td>\n",
       "    </tr>\n",
       "    <tr>\n",
       "      <th>3</th>\n",
       "      <td>We had a team dinnerThank you for a big fun ni...</td>\n",
       "      <td>Piccola Cucina Estiatorio</td>\n",
       "    </tr>\n",
       "    <tr>\n",
       "      <th>4</th>\n",
       "      <td>Piccola Cucina Estiatorio                     ...</td>\n",
       "      <td>Piccola Cucina Estiatorio</td>\n",
       "    </tr>\n",
       "  </tbody>\n",
       "</table>\n",
       "</div>"
      ],
      "text/plain": [
       "                                             Content  \\\n",
       "0    Just posted a photo @ Piccola Cucina Estiatorio   \n",
       "1  미국 뉴욕 Piccola Cucina Estiatorio여긴 그닥.. 저 초록색은 ...   \n",
       "2  Piccola Cucina Estiatorio | New York USA | Ma2...   \n",
       "3  We had a team dinnerThank you for a big fun ni...   \n",
       "4  Piccola Cucina Estiatorio                     ...   \n",
       "\n",
       "                  Restaurant  \n",
       "0  Piccola Cucina Estiatorio  \n",
       "1  Piccola Cucina Estiatorio  \n",
       "2  Piccola Cucina Estiatorio  \n",
       "3  Piccola Cucina Estiatorio  \n",
       "4  Piccola Cucina Estiatorio  "
      ]
     },
     "execution_count": 95,
     "metadata": {},
     "output_type": "execute_result"
    }
   ],
   "source": [
    "df.head()"
   ]
  },
  {
   "cell_type": "code",
   "execution_count": 31,
   "id": "fb2bcb38",
   "metadata": {},
   "outputs": [],
   "source": [
    "df['translated'] = df['Content'].apply(lambda x: translator.translate(x, dest='en').text)"
   ]
  },
  {
   "cell_type": "code",
   "execution_count": 159,
   "id": "4e53d8b7",
   "metadata": {},
   "outputs": [
    {
     "data": {
      "text/plain": [
       "'ขอตอบแทนนะคะ ถ้าอาหารอิตาลี่แนะนำร้านนี้ค่ะถ้าไม่ชอบ แถวย่านโซโห ตัวเลือกเยอะมากค่ะ ลองเดินดูได้ อ้อ ร้านนี้อยู่ฝั่งตรงข้ามร้าน Laduree ที่ไทยขายแต่มาการอง ที่นี่มีขายอาหารฝรั่งเศษด้วยค่ะ สวนด้านหลังสวยมากPiccola Cucina Estiatorio(646) 781-9183'"
      ]
     },
     "execution_count": 159,
     "metadata": {},
     "output_type": "execute_result"
    }
   ],
   "source": [
    "test = df['Content'][6]\n",
    "test"
   ]
  },
  {
   "cell_type": "code",
   "execution_count": 158,
   "id": "c2e406ee",
   "metadata": {},
   "outputs": [],
   "source": [
    "def clean_text(text, name):\n",
    "\n",
    "    text = text.lower()\n",
    "    text = re.sub(r'http\\S+', '', text) # Remove links\n",
    "    text = re.sub(r'<.*?>', '', text) # Remove HTML tags\n",
    "    \n",
    "    # Remove emoticons\n",
    "    emoji_pattern = re.compile(\"[\"\n",
    "        u\"\\U0001F600-\\U0001F64F\"  # emoticons\n",
    "        u\"\\U0001F300-\\U0001F5FF\"  # symbols & pictographs\n",
    "        u\"\\U0001F680-\\U0001F6FF\"  # transport & map symbols\n",
    "        u\"\\U0001F1E0-\\U0001F1FF\"  # flags\n",
    "                           \"]+\", flags=re.UNICODE)\n",
    "    text = emoji_pattern.sub(r'', text)\n",
    "    \n",
    "    # text = text.replace(name.lower(), \" \") # Remove the name of restaurant\n",
    "    for n in name.lower().split():\n",
    "        text = text.replace(n, \"\")\n",
    "        \n",
    "    text = translator.translate(text, dest='en').text # translation to english\n",
    "    \n",
    "    text = strip_punctuation(text) # Remove punctuation\n",
    "    text = strip_non_alphanum(text) # Remove non alphanumeric characters\n",
    "    text = re.sub(r'\\d', '', text) # Remove numbers\n",
    "    text = re.sub(r'(!)1+', '', text) # remove repetitions\n",
    "    text = strip_multiple_whitespaces(text) # Remove multiple whitespaces\n",
    "    \n",
    "    text = [word for word in text.split() if word not in stopwords and len(word) > 2] # Remove stopwords\n",
    "    text = [wordnet_lemmatizer.lemmatize(word) for word in text] # lemmatize\n",
    "    text = \" \".join(text)\n",
    "\n",
    "    return text "
   ]
  },
  {
   "cell_type": "code",
   "execution_count": 160,
   "id": "ac4da479",
   "metadata": {},
   "outputs": [],
   "source": [
    "test_out = clean_text(test, 'Piccola Cucina Estiatorio')"
   ]
  },
  {
   "cell_type": "code",
   "execution_count": 161,
   "id": "f1af62c9",
   "metadata": {},
   "outputs": [
    {
     "data": {
      "text/plain": [
       "'return Italian food recommended restaurant like Soho area lot option try walking around There also French food vendor The back garden beautiful'"
      ]
     },
     "execution_count": 161,
     "metadata": {},
     "output_type": "execute_result"
    }
   ],
   "source": [
    "test_out"
   ]
  },
  {
   "cell_type": "code",
   "execution_count": 162,
   "id": "80403c86",
   "metadata": {},
   "outputs": [],
   "source": [
    "def get_sentiment(x):\n",
    "    sentiment = TextBlob(x)\n",
    "    return sentiment.sentiment.polarity"
   ]
  },
  {
   "cell_type": "code",
   "execution_count": 165,
   "id": "a1b81706",
   "metadata": {},
   "outputs": [],
   "source": [
    "df['cleaned'] = df.apply(lambda row: clean_text(row.Content, row.Restaurant), axis=1)"
   ]
  },
  {
   "cell_type": "code",
   "execution_count": 166,
   "id": "9edf1dd9",
   "metadata": {},
   "outputs": [],
   "source": [
    "df = df.replace(r'^s*$', float('NaN'), regex = True) # substitute with empty with NaN\n",
    "df.dropna(subset = ['cleaned'], inplace = True) # remove empty rows"
   ]
  },
  {
   "cell_type": "code",
   "execution_count": 168,
   "id": "508b5bf8",
   "metadata": {},
   "outputs": [],
   "source": [
    "df['sentiment'] = df.apply(lambda row: get_sentiment(row.cleaned), axis=1)"
   ]
  },
  {
   "cell_type": "code",
   "execution_count": 172,
   "id": "8c2ca68a",
   "metadata": {},
   "outputs": [],
   "source": [
    "from collections import Counter\n",
    "# Create three Counter objects to store positive, negative and total counts\n",
    "positive_counts = Counter()\n",
    "negative_counts = Counter()\n",
    "total_counts = Counter()"
   ]
  },
  {
   "cell_type": "code",
   "execution_count": 173,
   "id": "46c3afa6",
   "metadata": {},
   "outputs": [],
   "source": [
    "for idx, row in df.iterrows():\n",
    "    for word in row['cleaned'].split(\" \"):\n",
    "        if(row['sentiment'] > 0):\n",
    "            positive_counts[word]+=1\n",
    "        elif (row['sentiment'] < 0):\n",
    "            negative_counts[word]+=1\n",
    "        else:\n",
    "            break\n",
    "        total_counts[word]+=1"
   ]
  },
  {
   "cell_type": "code",
   "execution_count": 203,
   "id": "d2d8b508",
   "metadata": {},
   "outputs": [
    {
     "data": {
      "text/plain": [
       "[('new', 15),\n",
       " ('york', 11),\n",
       " ('soho', 6),\n",
       " ('dinner', 4),\n",
       " ('beautiful', 4),\n",
       " ('delicious', 3),\n",
       " ('food', 3),\n",
       " ('team', 3),\n",
       " ('fun', 3),\n",
       " ('newyork', 3)]"
      ]
     },
     "execution_count": 203,
     "metadata": {},
     "output_type": "execute_result"
    }
   ],
   "source": [
    "positive_counts.most_common()[0:10]"
   ]
  },
  {
   "cell_type": "code",
   "execution_count": 347,
   "id": "7ef09f88",
   "metadata": {},
   "outputs": [
    {
     "data": {
      "text/plain": [
       "[]"
      ]
     },
     "execution_count": 347,
     "metadata": {},
     "output_type": "execute_result"
    }
   ],
   "source": [
    "negative_counts.most_common()[:10] # it's normal to have 0, they are the best resto"
   ]
  },
  {
   "cell_type": "code",
   "execution_count": 352,
   "id": "94ace2e4",
   "metadata": {},
   "outputs": [
    {
     "data": {
      "text/plain": [
       "<matplotlib.patches.Circle at 0x189004a5430>"
      ]
     },
     "execution_count": 352,
     "metadata": {},
     "output_type": "execute_result"
    },
    {
     "data": {
      "image/png": "[encoded data removed]",
      "text/plain": [
       "<Figure size 1296x360 with 3 Axes>"
      ]
     },
     "metadata": {
      "needs_background": "light"
     },
     "output_type": "display_data"
    }
   ],
   "source": [
    "# extract the keys and values from the counter\n",
    "max_words = 10\n",
    "pos_words = [x[0] for x in positive_counts.most_common()[:max_words]]\n",
    "pos_counts = [x[1] for x in positive_counts.most_common()[:max_words]]\n",
    "\n",
    "neg_words = [x[0] for x in negative_counts.most_common()[:max_words]]\n",
    "neg_counts = [x[1] for x in negative_counts.most_common()[:max_words]]\n",
    "\n",
    "max_words_pos = len(pos_words)\n",
    "max_words_neg = len(neg_words)\n",
    "\n",
    "random.seed(1)\n",
    "random.shuffle(pos_words)\n",
    "random.shuffle(pos_counts)\n",
    "random.shuffle(neg_words)\n",
    "random.shuffle(neg_counts)\n",
    "\n",
    "fig, (ax1, ax2, ax3) = plt.subplots(1, 3, figsize=(18, 5))\n",
    "fig.suptitle('Sentiment associated to Features')\n",
    "\n",
    "if(max_words_pos):\n",
    "    ax1.fill_between(pos_words, \n",
    "                 [pos_counts[i]+1 for i in range(0,max_words_pos)], \n",
    "                 [pos_counts[i]-1 for i in range(0,max_words_pos)], \n",
    "                 alpha=.5, \n",
    "                 linewidth=1, \n",
    "                 color='g')\n",
    "    ax1.plot(pos_words, pos_counts, linewidth=2, color='g')\n",
    "    ax1.set_xlabel(\"Positive Features\")\n",
    "    ax1.set_ylabel('Score')\n",
    "    ax1.tick_params(axis='x', labelrotation = 45)\n",
    "\n",
    "if(max_words_neg): # to avoid errors if there are no negative opinions\n",
    "    ax2.fill_between(neg_words, \n",
    "                     [neg_counts[i]+1 for i in range(0,max_words_neg)], \n",
    "                     [neg_counts[i]-1 for i in range(0,max_words_neg)], \n",
    "                     alpha=.5, \n",
    "                     linewidth=1, \n",
    "                     color='r')\n",
    "    ax2.plot(neg_words, neg_counts, linewidth=2, color='r')\n",
    "    ax2.set_xlabel(\"Negative Features\")\n",
    "    ax2.set_ylabel('Score')\n",
    "    ax2.tick_params(axis='x', labelrotation = 45)\n",
    "    \n",
    "labels = ['Positive', 'Neutral', 'Negative']\n",
    "all_counts = [\n",
    "    df[df['sentiment']>0].sentiment.count(), # pos\n",
    "    df[df['sentiment']==0].sentiment.count(), # neutral\n",
    "    df[df['sentiment']<0].sentiment.count() # neg\n",
    "]\n",
    "colors = ['g', 'c', 'r']\n",
    "explode = (0.05, 0.05, 0.05)\n",
    "\n",
    "ax3.pie(all_counts, colors=colors, labels=labels,\n",
    "        autopct='%1.1f%%', pctdistance=0.85,\n",
    "        explode=explode)\n",
    "centre_circle = plt.Circle((0, 0), 0.70, fc='white')\n",
    "ax3 = plt.gcf()\n",
    "ax3.gca().add_artist(centre_circle)"
   ]
  }
 ],
 "metadata": {
  "kernelspec": {
   "display_name": "Python 3 (ipykernel)",
   "language": "python",
   "name": "python3"
  },
  "language_info": {
   "codemirror_mode": {
    "name": "ipython",
    "version": 3
   },
   "file_extension": ".py",
   "mimetype": "text/x-python",
   "name": "python",
   "nbconvert_exporter": "python",
   "pygments_lexer": "ipython3",
   "version": "3.9.7"
  }
 },
 "nbformat": 4,
 "nbformat_minor": 5
}
